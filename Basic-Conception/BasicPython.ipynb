{
 "cells": [
  {
   "cell_type": "code",
   "execution_count": 6,
   "metadata": {},
   "outputs": [],
   "source": [
    "class Parent:\n",
    "    def __init__(self, value):\n",
    "        self.value = value\n",
    "        print(f\"Parent initialized with value {self.value}\")\n",
    "\n",
    "class Child(Parent):\n",
    "    def __init__(self, value, extra):\n",
    "        super().__init__(value)  # 调用父类的 __init__ 方法\n",
    "        self.extra = extra\n",
    "        print(f\"Child initialized with value {self.value} and extra {self.extra}\")\n"
   ]
  },
  {
   "cell_type": "code",
   "execution_count": 7,
   "metadata": {},
   "outputs": [
    {
     "name": "stdout",
     "output_type": "stream",
     "text": [
      "Parent initialized with value 10\n",
      "Child initialized with value 10 and extra 20\n"
     ]
    }
   ],
   "source": [
    "Child.value = 10\n",
    "Child.extra = 20\n",
    "\n",
    "\n",
    "c=Child(10,20)"
   ]
  }
 ],
 "metadata": {
  "kernelspec": {
   "display_name": "base",
   "language": "python",
   "name": "python3"
  },
  "language_info": {
   "codemirror_mode": {
    "name": "ipython",
    "version": 3
   },
   "file_extension": ".py",
   "mimetype": "text/x-python",
   "name": "python",
   "nbconvert_exporter": "python",
   "pygments_lexer": "ipython3",
   "version": "3.11.5"
  }
 },
 "nbformat": 4,
 "nbformat_minor": 2
}
