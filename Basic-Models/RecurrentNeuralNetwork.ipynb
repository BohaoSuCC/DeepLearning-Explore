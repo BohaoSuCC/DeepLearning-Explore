{
 "cells": [
  {
   "cell_type": "markdown",
   "metadata": {},
   "source": [
    "# RNN (Recurrent Neural Network) 循环神经网络"
   ]
  },
  {
   "cell_type": "markdown",
   "metadata": {},
   "source": [
    "## 1. Introduction 什么是RNN\n",
    "\n",
    "RNN is a special type of neural network with recurrent connections between neurons. These recurrent connections enable RNN to process sequence data, such as time series data, natural language text, etc. Each neuron in RNN has an internal state, which can be used to store past information. The internal state of RNN will be updated based on the input data and the current state, so that RNN can process the current input based on past information.\n",
    "\n",
    "RNN是一种特殊的神经网络，它的神经元之间存在循环连接。这种循环连接使得RNN可以处理序列数据，比如时间序列数据、自然语言文本等。RNN的每个神经元都有一个内部状态，这个内部状态可以用来存储过去的信息。RNN的内部状态会根据输入数据和当前状态进行更新，这样RNN就可以根据过去的信息来处理当前的输入。\n",
    "\n",
    "## 2. Sequencing Representation 序列表示\n",
    "\n",
    "Sequencing representation is to transform sequence data into a form that can be processed by a neural network. For time series data, the simplest way to represent the sequence is to use the time series data as the input of the neural network. For natural language text, the sequence can be represented as the embedding of the text.\n",
    "\n",
    "序列表示方法是将序列数据转换为神经网络可以处理的形式。对于时间序列数据，最简单的序列表示方法是直接将时间序列数据作为神经网络的输入。对于自然语言文本，可以使用embedding编码的方式将文本转换为神经网络的输入。"
   ]
  },
  {
   "cell_type": "markdown",
   "metadata": {},
   "source": [
    "RNN is used to process sequence data, and it uses the mechanism of weight sharing (i.e., an RNN network is used multiple times). \n",
    "\n",
    "RNN适用了处理序列性的数据，并利用权重共享机制（即一个RNN网络使用多次）。\n",
    "\n",
    "For example, we want to predict whether it will rain on a certain day. We collect a large amount of meteorological information for many days, including temperature, air pressure, and rainfall. We divide the four days into one group, the first three days (represented by x1, x2, x3) are a sequence, and the fourth day is the known result. \n",
    "\n",
    "比如我们想要预知某一天是否会下雨，我们采集了大量天数的气象信息，气象信息包括温度、气压和降雨，我们分四天为一组，前三天（用x1,x2,x3表示）就是一个序列，第四天作为已知结果，\n",
    "\n",
    "By comparing the known result of the fourth day with the estimated value of the model, we can calculate the loss and gradient to optimize the model parameters. The significance of using a sequential model is that there is a certain relationship or influence between the front and back of the data, that is, the data of x2 depends on x1, the data of x3 depends on x2, and the data of x4 depends on x3. That is, the meteorological information of the first three days has a certain impact on the fourth day (the weather changes are relatively gentle, and there are rarely cliff-like changes, so the weather of the previous days can be used to predict the weather of the next day). \n",
    "\n",
    "通过第四天的已知结果与模型的估计值进行比较求损失、求梯度来优化模型参数。使用序列模型的意义在于数据前后之间有一定的联系或影响，即x2的数据依赖于x1,x3的数据依赖于x2，x4的数据依赖于x3，即前三天气象信息与是否降雨对第四天有一定的影响（天气的变化是比较缓和的，很少出现断崖式的变化，所以可以根据前些天的天气预知后一天的天气）。\n",
    "\n",
    "Note that x1, x2, x3 here is a sequence, and the three tensors x1, x2, x3 each contain three feature values, representing temperature, air pressure, and weather.\n",
    "\n",
    "注意，这里的x1,x2,x3是一个序列，而x1,x2,x3三个张量又各自包含三个特征值，分别表示温度、气压和天气。\n",
    "\n",
    "Apart from the weather, stock market information, etc., natural language is also a sequence of information.\n",
    "\n",
    "除了天气、股市等信息外，自然语言也是具有序列关系的信息。"
   ]
  },
  {
   "cell_type": "markdown",
   "metadata": {},
   "source": [
    "## 3.  RNN Structure RNN的结构"
   ]
  },
  {
   "cell_type": "markdown",
   "metadata": {},
   "source": [
    "![](https://img-blog.csdnimg.cn/29e98c4503514489a59b0a596bc28ebf.png)"
   ]
  },
  {
   "cell_type": "markdown",
   "metadata": {},
   "source": [
    "The essence of RNN is still a linear layer (performing a linear transformation of wx+b). The difference is that the RNN cell network is shared(Weight Sharing), that is, it is used multiple times.\n",
    "\n",
    "RNN cell本质上是一个也是线性层(Linear Layer，进行wx+b的线性变换)。区别在于RNN cell的网络是共享的(Weight Sharing)，即使用多次。"
   ]
  },
  {
   "cell_type": "markdown",
   "metadata": {},
   "source": [
    "The left part of the above figure is the general writing mode of the RNN model, and the right part is its expansion mode. Here $X_1,X_2,X_3,X_4$ are the sequences mentioned earlier. $h_0$ can be initialized as a tensor full of 0. First, $X_1$ and $h_0$ (h represents hidden, that is, the hidden layer) are input into the RNN cell (RNN neural network), and the output result is $h_1$, then $x_2$ and $h_1$ (the two outputs of the RNN cell are the same, both are $h_i$) are input into the same RNN cell to output the result $h_2$, and so on, finally output the result $h_4$. It can be seen that the result of $h_2$ integrates the information of $x_1$ and $x_2$, the result of $h_3$ integrates the information of $x_1$, $x_2$, and $x_3$, and the result of $h_4$ integrates the information of $x_1$, $x_2$, $x_3$, and $x_4.\n",
    "\n",
    "上图中的左边部分是RNN模型的一般书写模式，右边部分是其展开模式。，这里的$X_1,X_2,X_3,X_4$就是之前提到过的序列。$h_0$可以是初始化全为0的张量。先将$X_1$和$h_0$（h表示hidden,即隐层）输入RNN cell（RNN 神经网络），输出结果为$h_1$,再将$x_2$和$h_1$（即RNN cell的两个输出是一样的，都是$h_i$）输入相同的RNN cell输出结果$h_2$，依次类推，最终输出结果$h_4$。可以看出$h_2$的结果融合了$x_1$与$x_2$的信息，$h_3$的结果融合了$x_1$、$x_2$与$x_3$的信息，$h_4$的结果融合了$x_1$、$x_2$、$x_3$与$x_4$的信息。"
   ]
  },
  {
   "cell_type": "markdown",
   "metadata": {},
   "source": [
    "![](https://img-blog.csdnimg.cn/776d8bac25864eff88b0cd9cd26dc10f.png)"
   ]
  },
  {
   "cell_type": "markdown",
   "metadata": {},
   "source": [
    "**input_size** represents the dimension of the input. The input $X_t$ is first linearly transformed, $h_{t-1}$ is the output of the previous hidden layer, and it is also linearly transformed. Then the results of the two linear transformations are added together. The shape of $W_{ih}$ in the figure is **[hidden_size, input_size]**, so that the result of $W_{ih}X_t+b_{ih}$ is **[hidden_size,1]**; the shape of $W_{hh}$ is **[hidden_size, hidden_size]**. Finally, the activation function **tanh()** is used to make the result within the range of **[1,1]**, and $h_t$ is the output of this hidden layer.\n",
    "\n",
    "**input_size**表示输入的维度，输入$X_t$先做一个线性变换，$h_{t-1}$是上一层隐层的输出，也对其做一个线性变换，再将 两个线性变换的结果相加，上图中的$W_{ih}$为的shape为 **[hidden_size, input_size]** ，使得$W_{ih}X_t+b_{ih}$的结果为[hidden_size,1]；$W_{hh}$为的shape为 **[hidden_size, hidden_size]**。最后使用激活函数 **tanh()** 使结果位于 **[1，1]** 的区间内，$h_t$为该隐层的输出。"
   ]
  },
  {
   "cell_type": "markdown",
   "metadata": {},
   "source": [
    "RNN cell的公式为：\n",
    "\n",
    "$$h_t = \\tanh(W_{ih} x_t + b_{ih} + W_{hh} h_{t-1} + b_{hh})$$\n"
   ]
  },
  {
   "cell_type": "markdown",
   "metadata": {},
   "source": [
    "## 4. RNN in PyTorch coding RNN在PyTorch中的代码实现"
   ]
  },
  {
   "cell_type": "markdown",
   "metadata": {},
   "source": [
    "Create an RNN cell in PyTorch, just need to input the parameters **input_size** (the dimension of the input value, that is, how many components Xi has) and **hidden_size** (the dimension of the hidden layer, that is, how many components hi has).\n",
    "\n",
    "自定义一个RNN cell,只需输入参数input_size（即输入值的维度，即Xi有几个分量）和hidden_size（隐藏层的维度，即hi有几个分量）。\n",
    "\n",
    "**Note**: input.shape is **[batch, input_size]**, batch is the size of the batch, that is, the size of the dataset, that is, **input.shape = batch.size * input_size** is a two-dimensional tensor, hidden.shape is **[batch, hidden_size]**. The output hidden.shape is **[batch, hidden_size]**.\n",
    "\n",
    "注意：input.shape为 **[batch, input_size]**,batch为批量的大小，即数据集的大小，即 **input.shape=batch.size*input_size** 的二维张量，hidden.shape为 **[batch, hidden_size]**。输出的hidden.shape为 **[batch, hidden_size]**。"
   ]
  },
  {
   "cell_type": "code",
   "execution_count": 3,
   "metadata": {},
   "outputs": [],
   "source": [
    "import torch\n",
    "import torch.nn as nn\n",
    "import torch.nn.functional as F\n",
    "import torch.optim as optim\n",
    "import numpy as np\n",
    "import random\n",
    "import os\n",
    "import matplotlib.pyplot as plt"
   ]
  },
  {
   "cell_type": "markdown",
   "metadata": {},
   "source": [
    "在代码实现中，有RNN的两种代码实现模式，一种是直接使用nn.RNN()，另一种是自定义RNN cell。\n",
    "\n",
    "### 4.1 Using nn.RNN() 使用nn.RNN()\n",
    "\n",
    "使用nn.RNN主要特点是简单，只需输入input_size和hidden_size两个参数即可。模型会自动进行每一步隐藏层状态参数h的更新。\n",
    "\n",
    "nn.RNN()的代码实现如下：\n"
   ]
  },
  {
   "cell_type": "code",
   "execution_count": 8,
   "metadata": {},
   "outputs": [
    {
     "name": "stdout",
     "output_type": "stream",
     "text": [
      "RNN(100, 20, num_layers=3)\n",
      "torch.Size([50, 64, 20]) torch.Size([3, 64, 20])\n",
      "odict_keys(['weight_ih_l0', 'weight_hh_l0', 'bias_ih_l0', 'bias_hh_l0', 'weight_ih_l1', 'weight_hh_l1', 'bias_ih_l1', 'bias_hh_l1', 'weight_ih_l2', 'weight_hh_l2', 'bias_ih_l2', 'bias_hh_l2'])\n"
     ]
    }
   ],
   "source": [
    "# Single layer RNN\n",
    "# input_size: the number of expected features in the input x\n",
    "# hidden_size: the number of features in the hidden state h\n",
    "# num_layers: the number of recurrent layers\n",
    "sgl_rnn2 = nn.RNN(input_size=100, hidden_size=20, num_layers=3)\n",
    "print(sgl_rnn)\n",
    "\n",
    "# input: (seq_len, batch, input_size)\n",
    "# h_0: (num_layers * num_directions, batch, hidden_size)\n",
    "x = torch.randn(50, 64, 100)\n",
    "\n",
    "# output: (seq_len, batch, num_directions * hidden_size)\n",
    "# h_n: (num_layers * num_directions, batch, hidden_size)\n",
    "out, HT = sgl_rnn(x, torch.zeros(3, 64, 20))\n",
    "# 3 layers, 64 batch, 20 hidden size\n",
    "print(out.shape, HT.shape)\n",
    "\n",
    "print(sgl_rnn._parameters.keys())"
   ]
  },
  {
   "cell_type": "code",
   "execution_count": 9,
   "metadata": {},
   "outputs": [
    {
     "name": "stdout",
     "output_type": "stream",
     "text": [
      "RNN(100, 20, num_layers=4)\n",
      "torch.Size([10, 3, 20]) torch.Size([4, 3, 20])\n"
     ]
    }
   ],
   "source": [
    "sgl_rnn2 = nn.RNN(input_size=100, hidden_size=20, num_layers=4)\n",
    "print(sgl_rnn2)\n",
    "x = torch.randn(10, 3, 100)\n",
    "out, HT = sgl_rnn2(x)\n",
    "print(out.shape, HT.shape)\n"
   ]
  },
  {
   "cell_type": "markdown",
   "metadata": {},
   "source": [
    "### 4.2 Custom RNN cell 自定义RNN cell\n",
    "\n",
    "自定义RNN cell可以更加灵活，可以自定义RNN cell的计算过程。再通过for循环来实现RNN的每一步隐藏层状态参数h的更新。\n",
    "\n",
    "自定义RNN cell的代码实现如下：\n",
    "\n"
   ]
  },
  {
   "cell_type": "code",
   "execution_count": 12,
   "metadata": {},
   "outputs": [
    {
     "name": "stdout",
     "output_type": "stream",
     "text": [
      "torch.Size([3, 20])\n"
     ]
    }
   ],
   "source": [
    "# 使用RNNCell\n",
    "# input_size: the number of expected features in the input x\n",
    "# hidden_size: the number of features in the hidden state h\n",
    "# num_layers: the number of recurrent layers\n",
    "rnn_cell = nn.RNNCell(input_size=100, hidden_size=20)\n",
    "h1 = torch.zeros(3, 20)\n",
    "for xt in x:\n",
    "    h1 = rnn_cell(xt,h1)\n",
    "print(h1.shape)"
   ]
  },
  {
   "cell_type": "code",
   "execution_count": 13,
   "metadata": {},
   "outputs": [
    {
     "name": "stdout",
     "output_type": "stream",
     "text": [
      "torch.Size([3, 20])\n"
     ]
    }
   ],
   "source": [
    "cell1 = nn.RNNCell(input_size=100, hidden_size=40)\n",
    "cell2 = nn.RNNCell(input_size=40, hidden_size=20)\n",
    "h1 = torch.zeros(3, 40)\n",
    "h2 = torch.zeros(3, 20)\n",
    "for xt in x:\n",
    "    h1 = cell1(xt,h1)\n",
    "    h2 = cell2(h1,h2)\n",
    "\n",
    "print(h2.shape)"
   ]
  },
  {
   "cell_type": "markdown",
   "metadata": {},
   "source": [
    "### 4.3 Case of time series prediction 时间序列预测例子 \n",
    "\n",
    "简单预测一个波形曲线，即输入一个波形曲线的前几个点，预测后面的点。"
   ]
  },
  {
   "cell_type": "code",
   "execution_count": 28,
   "metadata": {},
   "outputs": [],
   "source": [
    "# 定义超参数\n",
    "input_size = 1\n",
    "hidden_size = 32\n",
    "output_size = 1\n",
    "batch_size = 1\n",
    "seq_len = num_time_steps - 1\n",
    "num_layers = 1\n",
    "num_time_steps = 50\n",
    "lr = 0.01"
   ]
  },
  {
   "cell_type": "code",
   "execution_count": 29,
   "metadata": {},
   "outputs": [],
   "source": [
    "# 定义模型\n",
    "class RNNNet(nn.Module):\n",
    "    def __init__(self,):\n",
    "        super(RNNNet, self).__init__()\n",
    "\n",
    "        self.rnn = nn.RNN(\n",
    "            input_size=input_size, \n",
    "            hidden_size = hidden_size,\n",
    "            num_layers=num_layers, \n",
    "            batch_first=True)\n",
    "        for p in self.rnn.parameters():\n",
    "            nn.init.normal_(p, mean=0.0, std=0.001)\n",
    "\n",
    "        self.linear = nn.Linear(hidden_size, output_size)\n",
    "\n",
    "    def forward(self, x, hidden_prev):\n",
    "        # x (batch, time_step, input_size)\n",
    "        out, hidden_prev = self.rnn(x, hidden_prev)\n",
    "        # out (batch, time_step, hidden_size)\n",
    "        out = out.view(-1, hidden_size)\n",
    "        out = self.linear(out)\n",
    "        out = out.squeeze(dim=0)\n",
    "        return out, hidden_prev"
   ]
  },
  {
   "cell_type": "code",
   "execution_count": 30,
   "metadata": {},
   "outputs": [
    {
     "name": "stderr",
     "output_type": "stream",
     "text": [
      "c:\\Users\\SBH\\anaconda3\\Lib\\site-packages\\torch\\nn\\modules\\loss.py:535: UserWarning: Using a target size (torch.Size([1, 49, 1])) that is different to the input size (torch.Size([49, 1])). This will likely lead to incorrect results due to broadcasting. Please ensure they have the same size.\n",
      "  return F.mse_loss(input, target, reduction=self.reduction)\n"
     ]
    },
    {
     "name": "stdout",
     "output_type": "stream",
     "text": [
      "Iteration: 0 loss 0.4511488378047943\n",
      "Iteration: 100 loss 0.00577550521120429\n",
      "Iteration: 200 loss 0.005512406583875418\n",
      "Iteration: 300 loss 0.009231518022716045\n",
      "Iteration: 400 loss 0.001961146015673876\n",
      "Iteration: 500 loss 0.004802002105861902\n",
      "Iteration: 600 loss 0.002208513207733631\n",
      "Iteration: 700 loss 0.0031752248760312796\n",
      "Iteration: 800 loss 0.0036831034813076258\n",
      "Iteration: 900 loss 0.004731001798063517\n",
      "Iteration: 1000 loss 0.00041216835961677134\n",
      "Iteration: 1100 loss 0.0006848014309071004\n",
      "Iteration: 1200 loss 0.0009526913636364043\n",
      "Iteration: 1300 loss 0.0025028539821505547\n",
      "Iteration: 1400 loss 0.001226462540216744\n",
      "Iteration: 1500 loss 0.0002585943148005754\n",
      "Iteration: 1600 loss 0.0002564572205301374\n",
      "Iteration: 1700 loss 0.003715962404385209\n",
      "Iteration: 1800 loss 0.0007702388684265316\n",
      "Iteration: 1900 loss 0.00040134877781383693\n",
      "Iteration: 2000 loss 0.001997655723243952\n",
      "Iteration: 2100 loss 0.0007813478587195277\n",
      "Iteration: 2200 loss 0.00047379499301314354\n",
      "Iteration: 2300 loss 0.000319684884743765\n",
      "Iteration: 2400 loss 0.0004095909825991839\n",
      "Iteration: 2500 loss 0.0003105689538642764\n",
      "Iteration: 2600 loss 0.0004804822674486786\n",
      "Iteration: 2700 loss 0.0008010017918422818\n",
      "Iteration: 2800 loss 0.000641318503767252\n",
      "Iteration: 2900 loss 0.0005425752024166286\n",
      "Iteration: 3000 loss 0.00011442653340054676\n",
      "Iteration: 3100 loss 0.0014306858647614717\n",
      "Iteration: 3200 loss 0.0003437876293901354\n",
      "Iteration: 3300 loss 0.0006053054821677506\n",
      "Iteration: 3400 loss 0.00029390407144092023\n",
      "Iteration: 3500 loss 0.0009930828819051385\n",
      "Iteration: 3600 loss 0.0009389696060679853\n",
      "Iteration: 3700 loss 0.00010914117592619732\n",
      "Iteration: 3800 loss 0.0005641106981784105\n",
      "Iteration: 3900 loss 0.0009134585270658135\n",
      "Iteration: 4000 loss 0.0018778854282572865\n",
      "Iteration: 4100 loss 0.00030508593772538006\n",
      "Iteration: 4200 loss 0.0003103774506598711\n",
      "Iteration: 4300 loss 0.0004299214924685657\n",
      "Iteration: 4400 loss 0.00013276808022055775\n",
      "Iteration: 4500 loss 0.0007520956569351256\n",
      "Iteration: 4600 loss 0.0004937630728818476\n",
      "Iteration: 4700 loss 0.00043661161907948554\n",
      "Iteration: 4800 loss 0.0005106409080326557\n",
      "Iteration: 4900 loss 0.00023023101675789803\n",
      "Iteration: 5000 loss 0.000688191328663379\n",
      "Iteration: 5100 loss 9.166896052192897e-05\n",
      "Iteration: 5200 loss 0.001510288449935615\n",
      "Iteration: 5300 loss 0.00028556209872476757\n",
      "Iteration: 5400 loss 0.0005688078817911446\n",
      "Iteration: 5500 loss 0.0002468395687174052\n",
      "Iteration: 5600 loss 0.00023319298634305596\n",
      "Iteration: 5700 loss 0.00023005240655038506\n",
      "Iteration: 5800 loss 0.00016061858332250267\n",
      "Iteration: 5900 loss 0.00025381764862686396\n"
     ]
    }
   ],
   "source": [
    "# 实例化模型\n",
    "\n",
    "model = RNNNet()\n",
    "criterion = nn.MSELoss()\n",
    "optimizer = torch.optim.Adam(model.parameters(), lr=0.01)\n",
    "\n",
    "hidden_prev = torch.zeros(1, 1, hidden_size)\n",
    "\n",
    "for iter in range(6000):\n",
    "    start = np.random.randint(3, size = 1)[0]\n",
    "    time_steps = np.linspace(start, start + 10, num_time_steps)\n",
    "    data = np.sin(time_steps)\n",
    "    data = data.reshape(num_time_steps, 1)\n",
    "    x = torch.tensor(data[:-1]).float().view(1, num_time_steps - 1, 1)\n",
    "    y = torch.tensor(data[1:]).float().view(1, num_time_steps - 1, 1)\n",
    "\n",
    "    output, hidden_prev = model(x, hidden_prev)\n",
    "    hidden_prev = hidden_prev.detach()\n",
    "\n",
    "    loss = criterion(output, y)\n",
    "    model.zero_grad()\n",
    "    loss.backward()\n",
    "    optimizer.step()\n",
    "\n",
    "    if iter % 100 == 0:\n",
    "        print('Iteration: {} loss {}'.format(iter, loss.item()))\n",
    "    "
   ]
  },
  {
   "cell_type": "code",
   "execution_count": 31,
   "metadata": {},
   "outputs": [],
   "source": [
    "start = np.random.randint(3, size = 1)[0]\n",
    "\n",
    "time_steps = np.linspace(start, start + 10, num_time_steps)\n",
    "data = np.sin(time_steps)\n",
    "data = data.reshape(num_time_steps, 1)\n",
    "x = torch.tensor(data[:-1]).float().view(1, num_time_steps - 1, 1)\n",
    "y = torch.tensor(data[1:]).float().view(1, num_time_steps - 1, 1)"
   ]
  },
  {
   "cell_type": "code",
   "execution_count": 32,
   "metadata": {},
   "outputs": [],
   "source": [
    "# 预测\n",
    "\n",
    "predictions = []\n",
    "input = x[:, 0, :]\n",
    "for _ in range(x.shape[1]):\n",
    "    input = input.view(1, 1, 1)\n",
    "    (pred, hidden_prev) = model(input, hidden_prev)\n",
    "    input = pred\n",
    "    predictions.append(pred.detach().numpy().ravel()[0])\n",
    "\n"
   ]
  },
  {
   "cell_type": "code",
   "execution_count": 33,
   "metadata": {},
   "outputs": [
    {
     "data": {
      "image/png": "[encoded data removed]",
      "text/plain": [
       "<Figure size 640x480 with 1 Axes>"
      ]
     },
     "metadata": {},
     "output_type": "display_data"
    }
   ],
   "source": [
    "# 绘图\n",
    "x = x.data.numpy().ravel()\n",
    "y = y.data.numpy()\n",
    "plt.scatter(time_steps[:-1], x, s=90)\n",
    "plt.plot(time_steps[:-1], x.ravel())\n",
    "\n",
    "plt.scatter(time_steps[1:], predictions)\n",
    "plt.show()"
   ]
  },
  {
   "cell_type": "markdown",
   "metadata": {},
   "source": [
    "## 5. RNN面临的问题\n",
    "\n",
    "### 5.1 Gradient Vanishing and Gradient Exploding 梯度消失和梯度爆炸\n",
    "\n",
    "The gradient vanishing and gradient explosion are the two main problems of RNN. The gradient vanishing means that the gradient of the loss function with respect to the parameters of the RNN cell is too small, which makes the parameters of the RNN cell difficult to update. The gradient explosion means that the gradient of the loss function with respect to the parameters of the RNN cell is too large, which makes the parameters of the RNN cell update too much, leading to the divergence of the model.\n",
    "\n",
    "梯度消失和梯度爆炸是RNN面临的两个主要问题。梯度消失意味着损失函数对RNN cell的参数的梯度太小，使得RNN cell的参数难以更新。梯度爆炸意味着损失函数对RNN cell的参数的梯度太大，使得RNN cell的参数更新过多，导致模型发散。"
   ]
  },
  {
   "cell_type": "markdown",
   "metadata": {},
   "source": [
    "#### 5.1.1**梯度爆炸 Gradient Explode**\n",
    "\n",
    "解决方式： Gradient clipping\n",
    "\n",
    "设置一个阈值，当梯度的绝对值大于这个阈值时，将梯度的绝对值设置为这个阈值。这样可以避免梯度爆炸。\n",
    "\n",
    "例如，设置阈值为5，当梯度的绝对值大于5时，将$g$除以其模再乘以threshold，这样就可以在保留梯度方向不变的前提下，将其模的大小限制在5以内。\n",
    "\n"
   ]
  },
  {
   "cell_type": "code",
   "execution_count": null,
   "metadata": {},
   "outputs": [],
   "source": [
    "# Gradient Clipping\n",
    "\n",
    "loss = criterion(output, y)\n",
    "model.zero_grad()\n",
    "loss.backward()\n",
    "for p in model.parameters():\n",
    "    print(p.grad.norm())\n",
    "    nn.utils.clip_grad_norm_(p, 10)\n",
    "    print(p.grad.norm())\n",
    "optimizer.step()\n"
   ]
  },
  {
   "cell_type": "markdown",
   "metadata": {},
   "source": [
    "#### 5.1.2**梯度弥散（消失）Gradient Vanishing**\n",
    "\n",
    "解决方式： [LSTM](LSTM.ipynb), GRU\n"
   ]
  }
 ],
 "metadata": {
  "kernelspec": {
   "display_name": "base",
   "language": "python",
   "name": "python3"
  },
  "language_info": {
   "codemirror_mode": {
    "name": "ipython",
    "version": 3
   },
   "file_extension": ".py",
   "mimetype": "text/x-python",
   "name": "python",
   "nbconvert_exporter": "python",
   "pygments_lexer": "ipython3",
   "version": "3.11.5"
  }
 },
 "nbformat": 4,
 "nbformat_minor": 2
}
