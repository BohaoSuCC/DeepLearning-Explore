{
 "cells": [
  {
   "cell_type": "markdown",
   "metadata": {},
   "source": [
    "# RNN (Recurrent Neural Network) 循环神经网络"
   ]
  },
  {
   "cell_type": "markdown",
   "metadata": {},
   "source": [
    "## 1. 什么是RNN\n",
    "\n",
    "RNN是一种特殊的神经网络，它的神经元之间存在循环连接。这种循环连接使得RNN可以处理序列数据，比如时间序列数据、自然语言文本等。RNN的每个神经元都有一个内部状态，这个内部状态可以用来存储过去的信息。RNN的内部状态会根据输入数据和当前状态进行更新，这样RNN就可以根据过去的信息来处理当前的输入。\n",
    "\n",
    "## 2. Sequencing Representation 序列表示\n",
    "\n",
    "序列表示方法是将序列数据转换为神经网络可以处理的形式。对于时间序列数据，最简单的序列表示方法是直接将时间序列数据作为神经网络的输入。对于自然语言文本，可以使用embedding编码的方式将文本转换为神经网络的输入。"
   ]
  },
  {
   "cell_type": "code",
   "execution_count": null,
   "metadata": {},
   "outputs": [],
   "source": [
    "# "
   ]
  }
 ],
 "metadata": {
  "language_info": {
   "name": "python"
  }
 },
 "nbformat": 4,
 "nbformat_minor": 2
}
